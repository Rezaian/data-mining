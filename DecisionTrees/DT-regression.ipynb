{
 "cells": [
  {
   "cell_type": "markdown",
   "id": "3cb0a202-6e6f-4809-870e-257aa58f082b",
   "metadata": {},
   "source": [
    "### **1. Open Dataset**"
   ]
  },
  {
   "cell_type": "code",
   "execution_count": 1,
   "id": "5f517ff0-3db9-4260-a384-9611480da69c",
   "metadata": {
    "scrolled": true
   },
   "outputs": [
    {
     "name": "stdout",
     "output_type": "stream",
     "text": [
      "<xarray.Dataset> Size: 15kB\n",
      "Dimensions:  (time: 730)\n",
      "Coordinates:\n",
      "  * time     (time) datetime64[ns] 6kB 2022-01-01T12:00:00 ... 2023-12-31T12:...\n",
      "Data variables:\n",
      "    tcwv     (time) float32 3kB ...\n",
      "    tcc      (time) float32 3kB ...\n",
      "    tp       (time) float32 3kB ...\n",
      "Attributes:\n",
      "    description:    Merged ERA5 and MODIS AOD dataset\n",
      "    creation_date:  2024-12-29\n",
      "    time_zone:      UTC\n",
      "    region:         51E-52E, 35N-36N\n"
     ]
    }
   ],
   "source": [
    "import xarray as xr\n",
    "\n",
    "ds = xr.open_dataset('dataset_precip.nc')\n",
    "print(ds)"
   ]
  },
  {
   "cell_type": "markdown",
   "id": "0bdada8c-776b-41f3-86d1-07ad505cd79f",
   "metadata": {},
   "source": [
    "\n",
    "### **2. Handle Missing Data (if any)**\n",
    "Check if there are any missing values and handle them appropriately.\n"
   ]
  },
  {
   "cell_type": "code",
   "execution_count": 2,
   "id": "96045b3b-672a-4a40-85ba-dc574b4c818d",
   "metadata": {},
   "outputs": [],
   "source": [
    "import pandas as pd\n",
    "\n",
    "df = ds.to_dataframe().reset_index()\n",
    "\n",
    "# print(df.isnull().sum())\n",
    "\n",
    "df = df.dropna()\n",
    "\n",
    "#rescale TP to mm/day\n",
    "df[['tp']] = df[['tp']] * 1000\n"
   ]
  },
  {
   "cell_type": "markdown",
   "id": "786872ad-aa01-4653-917d-93863cd4bd76",
   "metadata": {},
   "source": [
    "### **3. Train-Test Split for Modeling**\n",
    "Use the DataFrame for machine learning.\n"
   ]
  },
  {
   "cell_type": "code",
   "execution_count": 3,
   "id": "1272e12a-e170-4cd9-9854-0049df929796",
   "metadata": {},
   "outputs": [
    {
     "name": "stdout",
     "output_type": "stream",
     "text": [
      "(584, 2)\n",
      "(146, 2)\n"
     ]
    }
   ],
   "source": [
    "#train test split the dataset\n",
    "from sklearn.model_selection import train_test_split\n",
    "\n",
    "\n",
    "X = df[['tcwv', 'tcc']]\n",
    "y = df[['tp']] \n",
    "\n",
    "X_train, X_test, y_train, y_test = train_test_split(X, y, test_size=0.2, random_state=69)\n",
    "\n",
    "\n",
    "print(X_train.shape)\n",
    "print(X_test.shape)"
   ]
  },
  {
   "cell_type": "markdown",
   "id": "397e4805-1e75-4693-b1af-48d9d9827aa0",
   "metadata": {},
   "source": [
    "### **4. Train a Decision Tree Regressor**\n",
    "Train the regressor using the data.\n"
   ]
  },
  {
   "cell_type": "code",
   "execution_count": 4,
   "id": "fce1d36b-5e93-4604-8cae-e5c661d52a4b",
   "metadata": {},
   "outputs": [
    {
     "name": "stdout",
     "output_type": "stream",
     "text": [
      "Mean Squared Error: 0.06816359397164122\n"
     ]
    }
   ],
   "source": [
    "#train a Decision Tree Regressor\n",
    "\n",
    "from sklearn.tree import DecisionTreeRegressor\n",
    "from sklearn.metrics import mean_squared_error\n",
    "\n",
    "#setup the model\n",
    "DTR = DecisionTreeRegressor(max_depth=5, random_state=42)\n",
    "\n",
    "DTR.fit(X_train, y_train)\n",
    "\n",
    "\n",
    "y_predict = DTR.predict(X_test)\n",
    "\n",
    "mse = mean_squared_error(y_predict, y_test)\n",
    "\n",
    "print(\"Mean Squared Error:\", mse)"
   ]
  },
  {
   "cell_type": "markdown",
   "id": "9faa8c5f-9d01-4ac4-818d-9d7526a892dc",
   "metadata": {},
   "source": [
    "\n",
    "### **5. Interpret the Tree**\n",
    "Interpret the tree to understand how it makes predictions."
   ]
  },
  {
   "cell_type": "code",
   "execution_count": 5,
   "id": "5c6e85aa-4528-4a6d-815b-36f4f0f8e631",
   "metadata": {},
   "outputs": [
    {
     "name": "stdout",
     "output_type": "stream",
     "text": [
      "Tree Rules:\n",
      " |--- tcc <= 0.73\n",
      "|   |--- tcc <= 0.25\n",
      "|   |   |--- tcc <= 0.03\n",
      "|   |   |   |--- tcc <= 0.01\n",
      "|   |   |   |   |--- tcwv <= 9.71\n",
      "|   |   |   |   |   |--- value: [0.00]\n",
      "|   |   |   |   |--- tcwv >  9.71\n",
      "|   |   |   |   |   |--- value: [0.00]\n",
      "|   |   |   |--- tcc >  0.01\n",
      "|   |   |   |   |--- tcwv <= 12.36\n",
      "|   |   |   |   |   |--- value: [0.01]\n",
      "|   |   |   |   |--- tcwv >  12.36\n",
      "|   |   |   |   |   |--- value: [0.02]\n",
      "|   |   |--- tcc >  0.03\n",
      "|   |   |   |--- tcwv <= 11.98\n",
      "|   |   |   |   |--- tcwv <= 6.86\n",
      "|   |   |   |   |   |--- value: [0.01]\n",
      "|   |   |   |   |--- tcwv >  6.86\n",
      "|   |   |   |   |   |--- value: [0.02]\n",
      "|   |   |   |--- tcwv >  11.98\n",
      "|   |   |   |   |--- tcwv <= 12.16\n",
      "|   |   |   |   |   |--- value: [0.20]\n",
      "|   |   |   |   |--- tcwv >  12.16\n",
      "|   |   |   |   |   |--- value: [0.03]\n",
      "|   |--- tcc >  0.25\n",
      "|   |   |--- tcwv <= 12.09\n",
      "|   |   |   |--- tcwv <= 10.22\n",
      "|   |   |   |   |--- tcwv <= 5.21\n",
      "|   |   |   |   |   |--- value: [0.00]\n",
      "|   |   |   |   |--- tcwv >  5.21\n",
      "|   |   |   |   |   |--- value: [0.05]\n",
      "|   |   |   |--- tcwv >  10.22\n",
      "|   |   |   |   |--- tcc <= 0.29\n",
      "|   |   |   |   |   |--- value: [0.05]\n",
      "|   |   |   |   |--- tcc >  0.29\n",
      "|   |   |   |   |   |--- value: [0.01]\n",
      "|   |   |--- tcwv >  12.09\n",
      "|   |   |   |--- tcc <= 0.29\n",
      "|   |   |   |   |--- tcwv <= 24.41\n",
      "|   |   |   |   |   |--- value: [0.16]\n",
      "|   |   |   |   |--- tcwv >  24.41\n",
      "|   |   |   |   |   |--- value: [0.35]\n",
      "|   |   |   |--- tcc >  0.29\n",
      "|   |   |   |   |--- tcc <= 0.44\n",
      "|   |   |   |   |   |--- value: [0.02]\n",
      "|   |   |   |   |--- tcc >  0.44\n",
      "|   |   |   |   |   |--- value: [0.10]\n",
      "|--- tcc >  0.73\n",
      "|   |--- tcwv <= 16.92\n",
      "|   |   |--- tcc <= 1.00\n",
      "|   |   |   |--- tcc <= 0.77\n",
      "|   |   |   |   |--- tcwv <= 7.81\n",
      "|   |   |   |   |   |--- value: [0.03]\n",
      "|   |   |   |   |--- tcwv >  7.81\n",
      "|   |   |   |   |   |--- value: [0.19]\n",
      "|   |   |   |--- tcc >  0.77\n",
      "|   |   |   |   |--- tcwv <= 14.00\n",
      "|   |   |   |   |   |--- value: [0.03]\n",
      "|   |   |   |   |--- tcwv >  14.00\n",
      "|   |   |   |   |   |--- value: [0.13]\n",
      "|   |   |--- tcc >  1.00\n",
      "|   |   |   |--- tcc <= 1.00\n",
      "|   |   |   |   |--- value: [0.86]\n",
      "|   |   |   |--- tcc >  1.00\n",
      "|   |   |   |   |--- tcwv <= 9.57\n",
      "|   |   |   |   |   |--- value: [0.00]\n",
      "|   |   |   |   |--- tcwv >  9.57\n",
      "|   |   |   |   |   |--- value: [0.33]\n",
      "|   |--- tcwv >  16.92\n",
      "|   |   |--- tcwv <= 17.01\n",
      "|   |   |   |--- value: [1.34]\n",
      "|   |   |--- tcwv >  17.01\n",
      "|   |   |   |--- tcwv <= 19.79\n",
      "|   |   |   |   |--- tcwv <= 17.32\n",
      "|   |   |   |   |   |--- value: [0.09]\n",
      "|   |   |   |   |--- tcwv >  17.32\n",
      "|   |   |   |   |   |--- value: [0.41]\n",
      "|   |   |   |--- tcwv >  19.79\n",
      "|   |   |   |   |--- tcc <= 0.93\n",
      "|   |   |   |   |   |--- value: [0.27]\n",
      "|   |   |   |   |--- tcc >  0.93\n",
      "|   |   |   |   |   |--- value: [2.09]\n",
      "\n"
     ]
    }
   ],
   "source": [
    "from sklearn.tree import export_text\n",
    "\n",
    "tree_rules = export_text(DTR, feature_names=['tcwv', 'tcc'])\n",
    "print(f'Tree Rules:\\n {tree_rules}')\n"
   ]
  },
  {
   "cell_type": "markdown",
   "id": "f5b50069-d24e-42d6-b87a-4d98090ccae4",
   "metadata": {},
   "source": [
    "### **Predict for a New Day**\n",
    "Use the trained model to predict precipitation for new conditions.\n"
   ]
  },
  {
   "cell_type": "code",
   "execution_count": 6,
   "id": "837cc659-909f-4c8a-85b2-c3b1a16ccb26",
   "metadata": {},
   "outputs": [
    {
     "name": "stdout",
     "output_type": "stream",
     "text": [
      "Predicted precipitation for tcwv=20.0, tcc=0.7: 0.10 mm\n"
     ]
    },
    {
     "name": "stderr",
     "output_type": "stream",
     "text": [
      "/Users/admin/miniforge3/lib/python3.12/site-packages/sklearn/base.py:493: UserWarning: X does not have valid feature names, but DecisionTreeRegressor was fitted with feature names\n",
      "  warnings.warn(\n"
     ]
    }
   ],
   "source": [
    "# Example: Predict for tcwv=20.0, tcc=0.7\n",
    "sample_prediction = DTR.predict([[13.0, 0.7]])\n",
    "print(f\"Predicted precipitation for tcwv=20.0, tcc=0.7: {sample_prediction[0]:.2f} mm\")\n"
   ]
  },
  {
   "cell_type": "markdown",
   "id": "010985ea-4250-4eeb-a6c1-ce46b8592560",
   "metadata": {},
   "source": [
    "\n",
    "## Lag Features?\n",
    "\n",
    "- **Temporal Dependency**: Today’s precipitation might depend on how water vapor or cloud cover evolved in the days leading up to today.  \n",
    "- **Improved Predictive Power**: Adding lags often improves accuracy because weather processes have memory (e.g., if it was very humid yesterday, it might still be humid today).\n"
   ]
  },
  {
   "cell_type": "code",
   "execution_count": 7,
   "id": "658f4644-f956-4a69-ba16-96ffd43c3da5",
   "metadata": {},
   "outputs": [],
   "source": [
    "# Create 1-day lag features\n",
    "df['tcwv_lag1'] = df['tcwv'].shift(1)\n",
    "df['tcc_lag1']  = df['tcc'].shift(1)\n",
    "df['tp_lag1']   = df['tp'].shift(1)\n",
    "\n",
    "# Create 2-day lag features\n",
    "df['tcwv_lag2'] = df['tcwv'].shift(2)\n",
    "df['tcc_lag2']  = df['tcc'].shift(2)\n",
    "df['tp_lag2']   = df['tp'].shift(2)\n"
   ]
  },
  {
   "cell_type": "code",
   "execution_count": 8,
   "id": "7098a9ba-6ed1-4347-a16c-8d1efa40648a",
   "metadata": {},
   "outputs": [],
   "source": [
    "df = df.dropna(subset=['tcwv_lag1', 'tcc_lag1', 'tp_lag1', \n",
    "                       'tcwv_lag2', 'tcc_lag2', 'tp_lag2'])\n"
   ]
  },
  {
   "cell_type": "code",
   "execution_count": 9,
   "id": "6cf86501-b366-496d-905c-d96543419f3c",
   "metadata": {},
   "outputs": [],
   "source": [
    "# Sort by time just to be safe\n",
    "df = df.sort_values('time').reset_index(drop=True)\n",
    "\n",
    "# Choose a cutoff date for training vs. testing\n",
    "cutoff_date = '2023-07-01'\n",
    "df_train = df[df['time'] < cutoff_date].copy()\n",
    "df_test  = df[df['time'] >= cutoff_date].copy()\n",
    "\n",
    "# Define features (X) and target (y)\n",
    "FEATURES = [\n",
    "    'tcwv', 'tcc', \n",
    "    'tp_lag1', 'tcwv_lag1', 'tcc_lag1',\n",
    "    'tp_lag2', 'tcwv_lag2', 'tcc_lag2'\n",
    "]\n",
    "X_train = df_train[FEATURES]\n",
    "y_train = df_train['tp']  # Predict today's precipitation\n",
    "\n",
    "X_test = df_test[FEATURES]\n",
    "y_test = df_test['tp']\n"
   ]
  },
  {
   "cell_type": "code",
   "execution_count": 10,
   "id": "7fe8d66c-eebe-4cc9-8180-d9da52f01d0a",
   "metadata": {},
   "outputs": [
    {
     "name": "stdout",
     "output_type": "stream",
     "text": [
      "Mean Squared Error with lag features: 0.007854040315639157\n"
     ]
    }
   ],
   "source": [
    "from sklearn.tree import DecisionTreeRegressor\n",
    "from sklearn.metrics import mean_squared_error\n",
    "\n",
    "# Initialize the model (tune max_depth, min_samples_leaf, etc. as needed)\n",
    "DTR_2 = DecisionTreeRegressor(max_depth=5, random_state=42)\n",
    "\n",
    "# Fit on the training set\n",
    "DTR_2.fit(X_train, y_train)\n",
    "\n",
    "# Predict on the test set\n",
    "y_pred = DTR_2.predict(X_test)\n",
    "\n",
    "# Evaluate performance\n",
    "mse = mean_squared_error(y_test, y_pred)\n",
    "print(\"Mean Squared Error with lag features:\", mse)\n"
   ]
  },
  {
   "cell_type": "code",
   "execution_count": 11,
   "id": "f81a5c02-298b-4567-9741-658a58866bc8",
   "metadata": {},
   "outputs": [
    {
     "name": "stdout",
     "output_type": "stream",
     "text": [
      "|--- tcc <= 0.60\n",
      "|   |--- tcwv_lag1 <= 22.13\n",
      "|   |   |--- tcc <= 0.18\n",
      "|   |   |   |--- tcc_lag1 <= 0.99\n",
      "|   |   |   |   |--- tcc <= 0.02\n",
      "|   |   |   |   |   |--- value: [0.00]\n",
      "|   |   |   |   |--- tcc >  0.02\n",
      "|   |   |   |   |   |--- value: [0.01]\n",
      "|   |   |   |--- tcc_lag1 >  0.99\n",
      "|   |   |   |   |--- tcc_lag1 <= 1.00\n",
      "|   |   |   |   |   |--- value: [0.28]\n",
      "|   |   |   |   |--- tcc_lag1 >  1.00\n",
      "|   |   |   |   |   |--- value: [0.02]\n",
      "|   |   |--- tcc >  0.18\n",
      "|   |   |   |--- tcwv <= 12.38\n",
      "|   |   |   |   |--- tcc <= 0.18\n",
      "|   |   |   |   |   |--- value: [0.20]\n",
      "|   |   |   |   |--- tcc >  0.18\n",
      "|   |   |   |   |   |--- value: [0.02]\n",
      "|   |   |   |--- tcwv >  12.38\n",
      "|   |   |   |   |--- tcwv_lag1 <= 8.27\n",
      "|   |   |   |   |   |--- value: [0.35]\n",
      "|   |   |   |   |--- tcwv_lag1 >  8.27\n",
      "|   |   |   |   |   |--- value: [0.06]\n",
      "|   |--- tcwv_lag1 >  22.13\n",
      "|   |   |--- tcwv_lag2 <= 29.47\n",
      "|   |   |   |--- tcc_lag2 <= 0.85\n",
      "|   |   |   |   |--- tcwv_lag1 <= 25.74\n",
      "|   |   |   |   |   |--- value: [0.04]\n",
      "|   |   |   |   |--- tcwv_lag1 >  25.74\n",
      "|   |   |   |   |   |--- value: [0.14]\n",
      "|   |   |   |--- tcc_lag2 >  0.85\n",
      "|   |   |   |   |--- value: [0.32]\n",
      "|   |   |--- tcwv_lag2 >  29.47\n",
      "|   |   |   |--- value: [0.35]\n",
      "|--- tcc >  0.60\n",
      "|   |--- tcwv <= 16.82\n",
      "|   |   |--- tcwv_lag2 <= 4.01\n",
      "|   |   |   |--- tcwv_lag2 <= 3.59\n",
      "|   |   |   |   |--- tcwv_lag1 <= 6.72\n",
      "|   |   |   |   |   |--- value: [0.05]\n",
      "|   |   |   |   |--- tcwv_lag1 >  6.72\n",
      "|   |   |   |   |   |--- value: [0.45]\n",
      "|   |   |   |--- tcwv_lag2 >  3.59\n",
      "|   |   |   |   |--- tp_lag2 <= 0.00\n",
      "|   |   |   |   |   |--- value: [0.71]\n",
      "|   |   |   |   |--- tp_lag2 >  0.00\n",
      "|   |   |   |   |   |--- value: [0.78]\n",
      "|   |   |--- tcwv_lag2 >  4.01\n",
      "|   |   |   |--- tp_lag1 <= 0.06\n",
      "|   |   |   |   |--- tcwv <= 11.89\n",
      "|   |   |   |   |   |--- value: [0.02]\n",
      "|   |   |   |   |--- tcwv >  11.89\n",
      "|   |   |   |   |   |--- value: [0.10]\n",
      "|   |   |   |--- tp_lag1 >  0.06\n",
      "|   |   |   |   |--- tcc_lag2 <= 0.20\n",
      "|   |   |   |   |   |--- value: [0.86]\n",
      "|   |   |   |   |--- tcc_lag2 >  0.20\n",
      "|   |   |   |   |   |--- value: [0.14]\n",
      "|   |--- tcwv >  16.82\n",
      "|   |   |--- tcc_lag1 <= 0.99\n",
      "|   |   |   |--- tcwv <= 17.01\n",
      "|   |   |   |   |--- value: [1.34]\n",
      "|   |   |   |--- tcwv >  17.01\n",
      "|   |   |   |   |--- tp_lag1 <= 0.09\n",
      "|   |   |   |   |   |--- value: [0.12]\n",
      "|   |   |   |   |--- tp_lag1 >  0.09\n",
      "|   |   |   |   |   |--- value: [0.63]\n",
      "|   |   |--- tcc_lag1 >  0.99\n",
      "|   |   |   |--- tcc_lag2 <= 0.89\n",
      "|   |   |   |   |--- value: [0.98]\n",
      "|   |   |   |--- tcc_lag2 >  0.89\n",
      "|   |   |   |   |--- value: [2.09]\n",
      "\n"
     ]
    }
   ],
   "source": [
    "from sklearn.tree import export_text\n",
    "\n",
    "tree_rules = export_text(DTR_2, feature_names=FEATURES)\n",
    "print(tree_rules)\n"
   ]
  },
  {
   "cell_type": "code",
   "execution_count": 12,
   "id": "0d0097e9-07bb-420a-9bb9-ddb22c0fbc53",
   "metadata": {},
   "outputs": [
    {
     "name": "stdout",
     "output_type": "stream",
     "text": [
      "   tcwv  tcc  tp_lag1  tcwv_lag1  tcc_lag1  tp_lag2  tcwv_lag2  tcc_lag2\n",
      "0  17.0  0.7      0.0       18.2       1.0      0.0       25.0      0.95\n"
     ]
    }
   ],
   "source": [
    "# Input values for prediction\n",
    "new_data = {\n",
    "    'tcwv':       [17.0],  \n",
    "    'tcc':        [0.7],   \n",
    "    'tp_lag1':    [0.0],    \n",
    "    'tcwv_lag1':  [18.2],   \n",
    "    'tcc_lag1':   [1.0],   \n",
    "    'tp_lag2':    [0.0],   \n",
    "    'tcwv_lag2':  [25.0],   \n",
    "    'tcc_lag2':   [0.95]\n",
    "}\n",
    "# Create a DataFrame\n",
    "new_input = pd.DataFrame(new_data)\n",
    "\n",
    "\n",
    "print(new_input)\n"
   ]
  },
  {
   "cell_type": "code",
   "execution_count": 13,
   "id": "192f12c8-10fe-47b2-a2df-81e657726c6c",
   "metadata": {},
   "outputs": [
    {
     "name": "stdout",
     "output_type": "stream",
     "text": [
      "Predicted precipitation: 2.09 mm\n"
     ]
    }
   ],
   "source": [
    "\n",
    "# Predict using the trained model\n",
    "predicted_tp = DTR_2.predict(new_input)\n",
    "print(f\"Predicted precipitation: {predicted_tp[0]:.2f} mm\")"
   ]
  },
  {
   "cell_type": "code",
   "execution_count": null,
   "id": "cd15d6a1-5814-4349-96f3-a3aac4c1be5f",
   "metadata": {},
   "outputs": [],
   "source": []
  },
  {
   "cell_type": "code",
   "execution_count": null,
   "id": "7c4eecc8-37c1-4ede-acff-2e440dcbb5d4",
   "metadata": {},
   "outputs": [],
   "source": []
  }
 ],
 "metadata": {
  "kernelspec": {
   "display_name": "Python 3 (ipykernel)",
   "language": "python",
   "name": "python3"
  },
  "language_info": {
   "codemirror_mode": {
    "name": "ipython",
    "version": 3
   },
   "file_extension": ".py",
   "mimetype": "text/x-python",
   "name": "python",
   "nbconvert_exporter": "python",
   "pygments_lexer": "ipython3",
   "version": "3.12.5"
  }
 },
 "nbformat": 4,
 "nbformat_minor": 5
}
